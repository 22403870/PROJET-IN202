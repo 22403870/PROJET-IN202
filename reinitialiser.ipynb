{
 "cells": [
  {
   "cell_type": "code",
   "execution_count": null,
   "id": "ca56653c",
   "metadata": {},
   "outputs": [],
   "source": [
    "#FONCTION POUR OUVRIR ENREGISTRER ET QUITTER \n",
    "\n",
    "\n",
    "def open_fichier():\n",
    "    global image_loader, image, image_originale\n",
    "\n",
    "    # Ouvre une boîte de dialogue pour choisir une image\n",
    "    fichier_path = filedialog.askopenfilename(\n",
    "        defaultextension=\".png\",\n",
    "        filetypes=[(\"Images\", \"*.png *.jpeg *.jpg\")])\n",
    "\n",
    "    if fichier_path:\n",
    "        image_loader = Image.open(fichier_path).convert('RGB')\n",
    "        image_loader = image_loader.resize((475, 300))\n",
    "        image_originale = image_loader.copy()                              # on doit rajouter juste cette ligne dans le code\n",
    "        image_canva(canvas, racine)\n",
    "    return fichier_path\n",
    "\n",
    "menu_fichier.add_command(label=\"Open\", command=open_fichier)\n",
    "\n",
    "\n",
    "\n",
    "# REINITIALISER\n",
    "\n",
    "\n",
    "def reinitialiser():\n",
    "    global image_loader, image_originale\n",
    "    image_loader = image_originale.copy()\n",
    "    add_history(image_loader)                      # garder une trace pour si on veut faire retour apres\n",
    "    image_canva(canvas, racine)\n",
    "\n",
    "\n",
    "menu_fichier.add_command(label=\"Reinitialiser\", command=reinitialiser) \n"
   ]
  }
 ],
 "metadata": {
  "language_info": {
   "name": "python"
  }
 },
 "nbformat": 4,
 "nbformat_minor": 5
}
