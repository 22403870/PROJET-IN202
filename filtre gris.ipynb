{
 "cells": [
  {
   "cell_type": "code",
   "execution_count": null,
   "id": "da05a442",
   "metadata": {},
   "outputs": [],
   "source": [
    "# FILTRE GRIS\n",
    "\n",
    "def gray_filter():\n",
    "    global image, image_loader\n",
    "\n",
    "    pixels = np.array(image_loader.convert('RGB'))\n",
    "\n",
    "    for y in range(pixels.shape[0]):\n",
    "        for x in range(pixels.shape[1]):\n",
    "            r, g, b = pixels[y, x]\n",
    "            gray = int(0.299 * r + 0.587 * g + 0.114 * b)\n",
    "            pixels[y, x] = (gray, gray, gray)\n",
    "\n",
    "    image_loader = Image.fromarray(pixels)\n",
    "    add_history(image_loader)\n",
    "    image_canva(canvas, racine)\n",
    "\n",
    "menu_filtre.add_command(label=\"filtre gris\", command=gray_filter)\n"
   ]
  }
 ],
 "metadata": {
  "language_info": {
   "name": "python"
  }
 },
 "nbformat": 4,
 "nbformat_minor": 5
}
