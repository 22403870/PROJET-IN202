{
 "cells": [
  {
   "cell_type": "code",
   "execution_count": null,
   "id": "893963e9",
   "metadata": {},
   "outputs": [],
   "source": [
    "#AIDE \n",
    "\n",
    "menu_aide = tk.Menu(menu_principal, tearoff=0)                  \n",
    "menu_principal.add_cascade(label=\"Aide\", menu=menu_aide)           \n",
    "\n",
    "def open_help():\n",
    "    help_window = Toplevel(racine)\n",
    "    help_window.title(\"Aide\")\n",
    "    help_window.geometry(\"450x300\") \n",
    "\n",
    "    texte_aide = (\n",
    "        \"Bienvenue sur le logiciel UvsQolor !\\n\"\n",
    "        \" Dans le menu Fichier, vous pouvez :\\n\"\n",
    "        \"  - Ouvrir une image\\n\"\n",
    "        \"  - En charger une deuxième pour les fusions\\n\"\n",
    "        \"  - Enregistrer votre travail\\n\"\n",
    "        \"  - Réinitialiser limage\\n\"\n",
    "        \" Dans le menu Modifier, vous pouvez :\\n\"\n",
    "        \"  - Ajuster la luminosité et le contraste\\n\"\n",
    "        \"  - Appliquer différents flous\\n\"\n",
    "        \"  - Fusionner deux images\\n\"\n",
    "        \" Enfin, dans le menu Filtres :\\n\"\n",
    "        \"  - Ajoutez des filtres de couleurs (RGB, gris)\\n\"\n",
    "        \"Bonne utilisation !\"\n",
    "    )\n",
    "\n",
    "    label = tk.Label(help_window, text=texte_aide)\n",
    "    label.pack(padx=20, pady=20)\n",
    "\n",
    "    tk.Button(help_window, text=\"Fermer\", command=help_window.destroy).pack(pady=10)\n",
    "\n",
    "menu_aide.add_command(label=\"Help document\", command=open_help)\n"
   ]
  }
 ],
 "metadata": {
  "language_info": {
   "name": "python"
  }
 },
 "nbformat": 4,
 "nbformat_minor": 5
}
