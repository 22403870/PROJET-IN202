{
 "cells": [
  {
   "cell_type": "code",
   "execution_count": null,
   "id": "a54ec8bb",
   "metadata": {},
   "outputs": [],
   "source": [
    "# FILTRE ROUGE\n",
    "\n",
    "def red_filter():\n",
    "    global image, image_loader\n",
    "\n",
    "    pixels = np.array(image_loader.convert('RGB'))\n",
    "\n",
    "    for y in range(pixels.shape[0]):\n",
    "        for x in range(pixels.shape[1]):\n",
    "            r, _, _ = pixels[y, x]\n",
    "            pixels[y, x] = (r, 0, 0)\n",
    "\n",
    "    image_loader = Image.fromarray(pixels)\n",
    "    add_history(image_loader)\n",
    "    image_canva(canvas, racine)\n",
    "\n",
    "menu_filtre.add_command(label=\"filtre rouge\", command=red_filter)"
   ]
  }
 ],
 "metadata": {
  "language_info": {
   "name": "python"
  }
 },
 "nbformat": 4,
 "nbformat_minor": 5
}
